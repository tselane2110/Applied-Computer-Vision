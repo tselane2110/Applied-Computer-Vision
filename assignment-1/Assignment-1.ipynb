{
  "cells": [
    {
      "cell_type": "markdown",
      "id": "a4abdaa9-3c5f-4a2a-82f5-a0d81d45e215",
      "metadata": {
        "id": "a4abdaa9-3c5f-4a2a-82f5-a0d81d45e215"
      },
      "source": [
        "[![Open In Colab](https://colab.research.google.com/assets/colab-badge.svg)](https://colab.research.google.com/github/tselane2110/Applied-Computer-Vision/blob/main/assignment-1/Assignment-1.ipynb)"
      ]
    },
    {
      "cell_type": "code",
      "execution_count": null,
      "id": "42cb020d-336c-4639-b886-f95f181f36ae",
      "metadata": {
        "id": "42cb020d-336c-4639-b886-f95f181f36ae"
      },
      "outputs": [],
      "source": []
    }
  ],
  "metadata": {
    "kernelspec": {
      "display_name": "Python 3 (ipykernel)",
      "language": "python",
      "name": "python3"
    },
    "language_info": {
      "codemirror_mode": {
        "name": "ipython",
        "version": 3
      },
      "file_extension": ".py",
      "mimetype": "text/x-python",
      "name": "python",
      "nbconvert_exporter": "python",
      "pygments_lexer": "ipython3",
      "version": "3.12.4"
    },
    "colab": {
      "provenance": []
    }
  },
  "nbformat": 4,
  "nbformat_minor": 5
}