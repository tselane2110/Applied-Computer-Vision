{
  "cells": [
    {
      "cell_type": "markdown",
      "id": "a4abdaa9-3c5f-4a2a-82f5-a0d81d45e215",
      "metadata": {
        "id": "a4abdaa9-3c5f-4a2a-82f5-a0d81d45e215"
      },
      "source": [
        "[![Open In Colab](https://colab.research.google.com/assets/colab-badge.svg)](https://colab.research.google.com/github/tselane2110/Applied-Computer-Vision/blob/main/assignment-1/Assignment-1.ipynb)"
      ]
    },
    {
      "cell_type": "markdown",
      "id": "nHWustKz2mYM",
      "metadata": {
        "id": "nHWustKz2mYM"
      },
      "source": [
        "# Importing the Libraries"
      ]
    },
    {
      "cell_type": "code",
      "execution_count": 1,
      "id": "mS8vJwBv2ofA",
      "metadata": {
        "id": "mS8vJwBv2ofA"
      },
      "outputs": [],
      "source": [
        "import cv2 as cv\n",
        "import numpy as np\n",
        "import matplotlib.pyplot as plt"
      ]
    },
    {
      "cell_type": "markdown",
      "source": [
        "I will first implement functions to perform all the required tasks in the assignment. Then, when demonstrating the computations, I will call these functions to show the results.\n",
        "\n",
        "### Function to Display an Image"
      ],
      "metadata": {
        "id": "uuJfhwKBA2ht"
      },
      "id": "uuJfhwKBA2ht"
    },
    {
      "cell_type": "code",
      "execution_count": 2,
      "id": "ACThjWQ-_auR",
      "metadata": {
        "id": "ACThjWQ-_auR"
      },
      "outputs": [],
      "source": [
        "def show_image(img, title=\"Image\", fs=(5, 5)):\n",
        "    \"\"\"\n",
        "    Displays the input image\n",
        "    img -> input image\n",
        "    title -> title of the image\n",
        "    fs -> figure size\n",
        "    \"\"\"\n",
        "    plt.figure(figsize = fs)\n",
        "    plt.imshow(img)\n",
        "    plt.title(title)\n",
        "    plt.axis(\"off\")\n",
        "    plt.show()"
      ]
    },
    {
      "cell_type": "markdown",
      "source": [
        "### Function to add gaussian noise to an image"
      ],
      "metadata": {
        "id": "m3nzEAAuBjDV"
      },
      "id": "m3nzEAAuBjDV"
    },
    {
      "cell_type": "code",
      "source": [
        "def add_gaussian_noise(img, mean, std):\n",
        "  \"\"\"\n",
        "  Adds gaussian noise to the input image\n",
        "  img -> input image\n",
        "  mean -> mean of the gaussian noise\n",
        "  std -> standard deviation of the gaussian noise\n",
        "  \"\"\"\n",
        "  noise = np.random.normal(mean, std, img.shape)\n",
        "  noisy_img = img.astype(np.float64) + noise.astype(np.float64)\n",
        "  noisy_img = np.clip(noisy_img, 0, 255)\n",
        "  noisy_img = noisy_img.astype(np.uint8)\n",
        "  return noisy_img"
      ],
      "metadata": {
        "id": "-KCnawwCAsnu"
      },
      "id": "-KCnawwCAsnu",
      "execution_count": 3,
      "outputs": []
    },
    {
      "cell_type": "markdown",
      "source": [
        "### Function to perform convolution on an image given a kernel"
      ],
      "metadata": {
        "id": "7n1jvKn3CaSK"
      },
      "id": "7n1jvKn3CaSK"
    },
    {
      "cell_type": "code",
      "source": [
        "def convolve(img, kernel):\n",
        "  \"\"\"\n",
        "  Convolves the input image with the given kernel\n",
        "  img -> input image\n",
        "  kernel -> kernel to be used for convolution\n",
        "  \"\"\"\n",
        "  h, w, c = img.shape\n",
        "  result = np.zeros_like(img, dtype=np.float32)\n",
        "\n",
        "  # flipping kernel over x and y axis, for convolution\n",
        "  #lr (left-right) -> horizontal axis, ud (up-down) -> vertical axis\n",
        "  flipped_kernel = np.flipud(np.fliplr(kernel))\n",
        "\n",
        "  # applying zero-padding to the input image\n",
        "  # we are assuming that the kernel we will use is odd-sized\n",
        "  p = ((len(kernel)) - 1) / 2\n",
        "  padded_img = np.pad(img, ((p, p), (p, p)), 'constant')\n",
        "\n",
        "  # performing convolution\n",
        "  for ch in range(c):            # loop over channels\n",
        "      for i in range(h):       # loop over rows\n",
        "          for j in range(w):   # loop over cols\n",
        "              region = padded_img[i:i+p, j:j+p, ch]\n",
        "              result[i, j, ch] = np.sum(region * flipped_kernel)\n",
        "\n",
        "  return np.clip(result, 0, 255).astype(np.uint8)"
      ],
      "metadata": {
        "id": "LSk2Nx1VCUR2"
      },
      "id": "LSk2Nx1VCUR2",
      "execution_count": 4,
      "outputs": []
    },
    {
      "cell_type": "markdown",
      "source": [
        "### function to create a gaussian kernel"
      ],
      "metadata": {
        "id": "3Fg5Y-2tGsNA"
      },
      "id": "3Fg5Y-2tGsNA"
    },
    {
      "cell_type": "code",
      "source": [
        "def create_gaussian_kernel(size, sigma):\n",
        "  \"\"\"\n",
        "  Creates a gaussian kernel of the given size and sigma\n",
        "  size -> size of the kernel\n",
        "  sigma -> standard deviation of the gaussian kernel\n",
        "  \"\"\"\n",
        ""
      ],
      "metadata": {
        "id": "3FQcMLH4Gi3E"
      },
      "id": "3FQcMLH4Gi3E",
      "execution_count": null,
      "outputs": []
    },
    {
      "cell_type": "markdown",
      "source": [
        "### Function to perform convolution for template matching"
      ],
      "metadata": {
        "id": "FYqO_To6KCxi"
      },
      "id": "FYqO_To6KCxi"
    },
    {
      "cell_type": "code",
      "source": [],
      "metadata": {
        "id": "Cs4RUMJRKGfM"
      },
      "id": "Cs4RUMJRKGfM",
      "execution_count": null,
      "outputs": []
    }
  ],
  "metadata": {
    "colab": {
      "provenance": []
    },
    "kernelspec": {
      "display_name": "Python 3 (ipykernel)",
      "language": "python",
      "name": "python3"
    },
    "language_info": {
      "codemirror_mode": {
        "name": "ipython",
        "version": 3
      },
      "file_extension": ".py",
      "mimetype": "text/x-python",
      "name": "python",
      "nbconvert_exporter": "python",
      "pygments_lexer": "ipython3",
      "version": "3.12.4"
    }
  },
  "nbformat": 4,
  "nbformat_minor": 5
}