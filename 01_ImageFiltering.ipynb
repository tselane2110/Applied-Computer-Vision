{
  "nbformat": 4,
  "nbformat_minor": 0,
  "metadata": {
    "colab": {
      "provenance": [],
      "authorship_tag": "ABX9TyPA1BNdQsc5AMjeMUXzUdyU",
      "include_colab_link": true
    },
    "kernelspec": {
      "name": "python3",
      "display_name": "Python 3"
    },
    "language_info": {
      "name": "python"
    }
  },
  "cells": [
    {
      "cell_type": "markdown",
      "metadata": {
        "id": "view-in-github",
        "colab_type": "text"
      },
      "source": [
        "<a href=\"https://colab.research.google.com/github/tselane2110/Applied-Computer-Vision/blob/main/01_ImageFiltering.ipynb\" target=\"_parent\"><img src=\"https://colab.research.google.com/assets/colab-badge.svg\" alt=\"Open In Colab\"/></a>"
      ]
    },
    {
      "cell_type": "markdown",
      "source": [
        "# Image Filtering\n",
        "\n",
        "* Modify pixels based on some function of neighborhood\n",
        "* Output is a linear combination of the neighborhood pixels\n"
      ],
      "metadata": {
        "id": "8lx9Xm01VkXx"
      }
    },
    {
      "cell_type": "code",
      "execution_count": null,
      "metadata": {
        "id": "mgkaXtFZUBHo",
        "colab": {
          "base_uri": "https://localhost:8080/"
        },
        "outputId": "b9569fea-726b-43db-e1a5-e13882c48be5"
      },
      "outputs": [
        {
          "output_type": "stream",
          "name": "stdout",
          "text": [
            "hello world again!\n"
          ]
        }
      ],
      "source": []
    },
    {
      "cell_type": "code",
      "source": [],
      "metadata": {
        "id": "sCbFwwkEV4Rm"
      },
      "execution_count": null,
      "outputs": []
    }
  ]
}